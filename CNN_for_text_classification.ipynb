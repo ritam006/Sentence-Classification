{
  "nbformat": 4,
  "nbformat_minor": 0,
  "metadata": {
    "colab": {
      "name": "CNN for text classification.ipynb",
      "version": "0.3.2",
      "provenance": [],
      "collapsed_sections": [],
      "include_colab_link": true
    },
    "kernelspec": {
      "name": "python3",
      "display_name": "Python 3"
    },
    "accelerator": "GPU"
  },
  "cells": [
    {
      "cell_type": "markdown",
      "metadata": {
        "id": "view-in-github",
        "colab_type": "text"
      },
      "source": [
        "<a href=\"https://colab.research.google.com/github/ritam006/Sentence-Classification/blob/master/CNN_for_text_classification.ipynb\" target=\"_parent\"><img src=\"https://colab.research.google.com/assets/colab-badge.svg\" alt=\"Open In Colab\"/></a>"
      ]
    },
    {
      "metadata": {
        "id": "Y_at6jYpOKXV",
        "colab_type": "code",
        "colab": {}
      },
      "cell_type": "code",
      "source": [
        "!pip install -q gensim"
      ],
      "execution_count": 0,
      "outputs": []
    },
    {
      "metadata": {
        "id": "koRAbH68JQzq",
        "colab_type": "code",
        "colab": {}
      },
      "cell_type": "code",
      "source": [
        "import gensim\n",
        "import os\n",
        "from google.colab import drive\n",
        "import numpy as np"
      ],
      "execution_count": 0,
      "outputs": []
    },
    {
      "metadata": {
        "id": "eYuvhNKYJo3z",
        "colab_type": "code",
        "outputId": "9cfcbbb6-3cd5-4779-8979-61dad55f62f4",
        "colab": {
          "base_uri": "https://localhost:8080/",
          "height": 122
        }
      },
      "cell_type": "code",
      "source": [
        "drive.mount('/content/drive')"
      ],
      "execution_count": 0,
      "outputs": [
        {
          "output_type": "stream",
          "text": [
            "Go to this URL in a browser: https://accounts.google.com/o/oauth2/auth?client_id=947318989803-6bn6qk8qdgf4n4g3pfee6491hc0brc4i.apps.googleusercontent.com&redirect_uri=urn%3Aietf%3Awg%3Aoauth%3A2.0%3Aoob&scope=email%20https%3A%2F%2Fwww.googleapis.com%2Fauth%2Fdocs.test%20https%3A%2F%2Fwww.googleapis.com%2Fauth%2Fdrive%20https%3A%2F%2Fwww.googleapis.com%2Fauth%2Fdrive.photos.readonly%20https%3A%2F%2Fwww.googleapis.com%2Fauth%2Fpeopleapi.readonly&response_type=code\n",
            "\n",
            "Enter your authorization code:\n",
            "··········\n",
            "Mounted at /content/drive\n"
          ],
          "name": "stdout"
        }
      ]
    },
    {
      "metadata": {
        "id": "FPvtHCRNJwBf",
        "colab_type": "code",
        "outputId": "bf97b439-918c-425c-c2d7-6a53a66753e7",
        "colab": {
          "base_uri": "https://localhost:8080/",
          "height": 34
        }
      },
      "cell_type": "code",
      "source": [
        "os.getcwd()"
      ],
      "execution_count": 0,
      "outputs": [
        {
          "output_type": "execute_result",
          "data": {
            "text/plain": [
              "'/content'"
            ]
          },
          "metadata": {
            "tags": []
          },
          "execution_count": 7
        }
      ]
    },
    {
      "metadata": {
        "id": "6o8HBi_sJ7RS",
        "colab_type": "code",
        "colab": {}
      },
      "cell_type": "code",
      "source": [
        "os.chdir('drive/My Drive')"
      ],
      "execution_count": 0,
      "outputs": []
    },
    {
      "metadata": {
        "id": "Ydy7l-OvJ_K_",
        "colab_type": "code",
        "outputId": "715ed4c8-48ed-47c9-b716-721032d36041",
        "colab": {
          "base_uri": "https://localhost:8080/",
          "height": 187
        }
      },
      "cell_type": "code",
      "source": [
        "os.listdir()"
      ],
      "execution_count": 0,
      "outputs": [
        {
          "output_type": "execute_result",
          "data": {
            "text/plain": [
              "['T&P',\n",
              " 'Project Machine learning',\n",
              " 'Fable ',\n",
              " 'Discover Personalization.gsheet',\n",
              " 'Nainitaal 2017',\n",
              " 'Idea.gdoc',\n",
              " 'Untitled document.gdoc',\n",
              " 'Shimla Manali 2018',\n",
              " 'NLP Project',\n",
              " 'NLP Major']"
            ]
          },
          "metadata": {
            "tags": []
          },
          "execution_count": 9
        }
      ]
    },
    {
      "metadata": {
        "id": "MWbylkxvKILH",
        "colab_type": "code",
        "colab": {}
      },
      "cell_type": "code",
      "source": [
        "os.chdir('NLP Project')"
      ],
      "execution_count": 0,
      "outputs": []
    },
    {
      "metadata": {
        "id": "Rgn77uY6Kdpa",
        "colab_type": "code",
        "outputId": "c205200b-4f00-4e51-fe22-1f9e70ba0a1c",
        "colab": {
          "base_uri": "https://localhost:8080/",
          "height": 204
        }
      },
      "cell_type": "code",
      "source": [
        "os.listdir()"
      ],
      "execution_count": 0,
      "outputs": [
        {
          "output_type": "execute_result",
          "data": {
            "text/plain": [
              "['data',\n",
              " 'Abstract.gdoc',\n",
              " 'GoogleNews-vectors-negative.bin',\n",
              " 'glove.6B',\n",
              " 'rnn_model.h5',\n",
              " 'rnn_model.yaml',\n",
              " 'sentiment analysisusing RNN train.ipynb',\n",
              " 'cnn_glove_300d.h5',\n",
              " 'cnn_glove_300d.yaml',\n",
              " 'cnn_model_predict.ipynb',\n",
              " 'CNN for text classification.ipynb']"
            ]
          },
          "metadata": {
            "tags": []
          },
          "execution_count": 11
        }
      ]
    },
    {
      "metadata": {
        "id": "Kkqaqcl-OglM",
        "colab_type": "code",
        "colab": {}
      },
      "cell_type": "code",
      "source": [
        "def load_glove(embedding_dim):\n",
        "  path = os.path.join(os.getcwd(),'glove.6B/glove.6B.{}d.txt'.format(embedding_dim))\n",
        "  f = open(path,'r')\n",
        "  embedding_weight = {}  \n",
        "  for line in f:\n",
        "    values = line.split()\n",
        "    word = values[0]\n",
        "    coeff = np.asarray(values[1:],dtype='float32')\n",
        "    embedding_weight[word] = coeff    \n",
        "      \n",
        "  return embedding_weight   "
      ],
      "execution_count": 0,
      "outputs": []
    },
    {
      "metadata": {
        "id": "nnbnWNhqep_6",
        "colab_type": "code",
        "colab": {}
      },
      "cell_type": "code",
      "source": [
        "def load_word2vec(word2id):  \n",
        "  id2word = {i:word for word,i in word2id.items()}\n",
        "  models = gensim.models.KeyedVectors.load_word2vec_format('GoogleNews-vectors-negative.bin',binary=True)  \n",
        "  embedding_weights = {i: models[word] if word in models else\n",
        "                              np.random.uniform(-0.25, 0.25, models.vector_size)\n",
        "                         for i, word in id2word.items()}\n",
        "  return embedding_weights"
      ],
      "execution_count": 0,
      "outputs": []
    },
    {
      "metadata": {
        "id": "g3V4LnYzlqkE",
        "colab_type": "code",
        "colab": {}
      },
      "cell_type": "code",
      "source": [
        "# Model Hyperparameters\n",
        "embedding_dim = 300\n",
        "filter_sizes = (3, 4, 5)\n",
        "num_filters = 100\n",
        "dropout_prob = (0.5, 0.5)\n",
        "hidden_dims = 50\n",
        "\n",
        "# Training parameters\n",
        "batch_size = 64\n",
        "num_epochs = 10\n",
        "\n",
        "# Prepossessing parameters\n",
        "sequence_length = 400\n",
        "max_words = 5000"
      ],
      "execution_count": 0,
      "outputs": []
    },
    {
      "metadata": {
        "id": "g85Xnd22M2dy",
        "colab_type": "code",
        "outputId": "c91c7c84-e539-4bc2-fe0c-ac1fc4df7b83",
        "colab": {
          "base_uri": "https://localhost:8080/",
          "height": 34
        }
      },
      "cell_type": "code",
      "source": [
        "from keras.datasets import imdb\n",
        "from keras.preprocessing import sequence"
      ],
      "execution_count": 0,
      "outputs": [
        {
          "output_type": "stream",
          "text": [
            "Using TensorFlow backend.\n"
          ],
          "name": "stderr"
        }
      ]
    },
    {
      "metadata": {
        "id": "TFWTtpJilI-I",
        "colab_type": "code",
        "colab": {}
      },
      "cell_type": "code",
      "source": [
        "def load_data(max_words,sequence_length):\n",
        "  (x_train,y_train),(x_test,y_test) = imdb.load_data(num_words=max_words , )\n",
        "  x_train = sequence.pad_sequences(x_train, maxlen = sequence_length, padding = 'post',truncating='post')\n",
        "  x_test = sequence.pad_sequences(x_test, maxlen=sequence_length, padding = 'post', truncating = 'post')\n",
        "  word2id = imdb.get_word_index()\n",
        "  return x_train,y_train,x_test,y_test,word2id"
      ],
      "execution_count": 0,
      "outputs": []
    },
    {
      "metadata": {
        "id": "2PRdgMRJs1W7",
        "colab_type": "code",
        "colab": {}
      },
      "cell_type": "code",
      "source": [
        "from keras.models import Sequential, Model\n",
        "from keras.layers import Dense, Dropout, Flatten, Input, MaxPooling1D, Convolution1D, Embedding\n",
        "from keras.layers.merge import Concatenate\n",
        "from keras.initializers import glorot_uniform\n",
        "from keras.constraints import max_norm"
      ],
      "execution_count": 0,
      "outputs": []
    },
    {
      "metadata": {
        "id": "Ujkcp-vutANI",
        "colab_type": "code",
        "outputId": "59e7de29-bbd5-446a-d2f9-b2bc0847f85b",
        "colab": {
          "base_uri": "https://localhost:8080/",
          "height": 85
        }
      },
      "cell_type": "code",
      "source": [
        "x_train,y_train,x_test,y_test,word2id=load_data(max_words,sequence_length)\n",
        "id2word = {i:word for word,i in word2id.items()}\n"
      ],
      "execution_count": 0,
      "outputs": [
        {
          "output_type": "stream",
          "text": [
            "Downloading data from https://s3.amazonaws.com/text-datasets/imdb.npz\n",
            "17465344/17464789 [==============================] - 3s 0us/step\n",
            "Downloading data from https://s3.amazonaws.com/text-datasets/imdb_word_index.json\n",
            "1646592/1641221 [==============================] - 0s 0us/step\n"
          ],
          "name": "stdout"
        }
      ]
    },
    {
      "metadata": {
        "id": "hOwWJKj1ve_X",
        "colab_type": "code",
        "outputId": "5e0f766b-c2b7-427e-868f-e82d4aa21a73",
        "colab": {
          "base_uri": "https://localhost:8080/",
          "height": 34
        }
      },
      "cell_type": "code",
      "source": [
        "#embedding_weights=load_word2vec(id2word)\n",
        "embedding_weight = load_glove(embedding_dim)\n",
        "embedding_matrix = np.zeros((len(word2id)+1,embedding_dim))\n",
        "count = 0\n",
        "for word,i in word2id.items():\n",
        "  wordvec = embedding_weight.get(word)\n",
        "  if wordvec is None:\n",
        "    wordvec = np.random.uniform(-0.25,0.25,embedding_dim)\n",
        "    count = count+1\n",
        "   \n",
        "  embedding_matrix[i]=wordvec\n",
        "\n",
        "print('{} words were not in the glove'.format(count))"
      ],
      "execution_count": 0,
      "outputs": [
        {
          "output_type": "stream",
          "text": [
            "28434 words were not in the glove\n"
          ],
          "name": "stdout"
        }
      ]
    },
    {
      "metadata": {
        "id": "8G_wryIiUG7U",
        "colab_type": "code",
        "outputId": "75c459c2-1cd5-4cba-ddcb-8ac8cab2e766",
        "colab": {
          "base_uri": "https://localhost:8080/",
          "height": 51
        }
      },
      "cell_type": "code",
      "source": [
        "print(count)\n",
        "len(embedding_weight)\n",
        "embedding_matrix.shape"
      ],
      "execution_count": 0,
      "outputs": [
        {
          "output_type": "stream",
          "text": [
            "28434\n"
          ],
          "name": "stdout"
        },
        {
          "output_type": "execute_result",
          "data": {
            "text/plain": [
              "(88585, 300)"
            ]
          },
          "metadata": {
            "tags": []
          },
          "execution_count": 17
        }
      ]
    },
    {
      "metadata": {
        "id": "fdjw_NJo4b51",
        "colab_type": "code",
        "outputId": "81e6f594-5492-4d22-f12f-e14f1255743a",
        "colab": {
          "base_uri": "https://localhost:8080/",
          "height": 85
        }
      },
      "cell_type": "code",
      "source": [
        "print(len(id2word))\n",
        "print(x_train.shape)\n",
        "print(x_test.shape)\n",
        "print('Vocabulary size :{:d}'.format(len(id2word)))"
      ],
      "execution_count": 0,
      "outputs": [
        {
          "output_type": "stream",
          "text": [
            "88584\n",
            "(25000, 400)\n",
            "(25000, 400)\n",
            "Vocabulary size :88584\n"
          ],
          "name": "stdout"
        }
      ]
    },
    {
      "metadata": {
        "id": "R8FCtyxr69PE",
        "colab_type": "code",
        "colab": {}
      },
      "cell_type": "code",
      "source": [
        "def load_model(sequence_length,embedding_dim,id2word,dropout_prob,filter_sizes,num_filters):\n",
        "  model_input = Input(shape = (sequence_length,))\n",
        "  x1 = Embedding(len(id2word)+1,embedding_dim, weights = [embedding_matrix], input_length = sequence_length , trainable = True)(model_input)\n",
        "  #x1 = Dropout(dropout_prob[0])(x1)\n",
        "  \n",
        "  x2 = Embedding(len(id2word)+1,embedding_dim, embeddings_initializer = 'glorot_uniform' , input_length = sequence_length , trainable = True)(model_input)\n",
        "  #x2 = Dropout(dropout_prob[0])(x2)\n",
        "  \n",
        "  conv_blocks = []\n",
        "  for sz in filter_sizes:\n",
        "    conv = Convolution1D(filters = num_filters,kernel_size=sz,padding='valid',activation='relu',strides=1)(x1)\n",
        "    conv = MaxPooling1D(pool_size=2)(conv)\n",
        "    conv = Flatten()(conv)\n",
        "    conv_blocks.append(conv)\n",
        "    \n",
        "  for sz in filter_sizes:\n",
        "    conv = Convolution1D(filters = num_filters,kernel_size=sz,padding='valid',activation='relu',strides=1)(x2)\n",
        "    conv = MaxPooling1D(pool_size=2)(conv)\n",
        "    conv = Flatten()(conv)\n",
        "    conv_blocks.append(conv)\n",
        "    \n",
        "  x=Concatenate()(conv_blocks)\n",
        "  x=Dropout(dropout_prob[1])(x)\n",
        "  x=Dense(hidden_dims,kernel_constraint = max_norm(3.),activation='relu')(x)\n",
        "  model_output = Dense(1,activation='sigmoid')(x)\n",
        "  \n",
        "  model = Model(model_input,model_output)  \n",
        "  return model  "
      ],
      "execution_count": 0,
      "outputs": []
    },
    {
      "metadata": {
        "id": "8lqjpDsoZv8-",
        "colab_type": "code",
        "colab": {}
      },
      "cell_type": "code",
      "source": [
        "model = load_model(sequence_length,embedding_dim,id2word,dropout_prob,filter_sizes,num_filters)\n",
        "model.compile(loss='binary_crossentropy',optimizer='adam',metrics=['accuracy'])"
      ],
      "execution_count": 0,
      "outputs": []
    },
    {
      "metadata": {
        "id": "7UArC5HeawPO",
        "colab_type": "code",
        "outputId": "6b57c74c-f0a3-4335-8c21-e3899b364c08",
        "colab": {
          "base_uri": "https://localhost:8080/",
          "height": 391
        }
      },
      "cell_type": "code",
      "source": [
        "model.fit(x_train,y_train,batch_size=batch_size,epochs=num_epochs,verbose=1,validation_data=(x_test,y_test))"
      ],
      "execution_count": 0,
      "outputs": [
        {
          "output_type": "stream",
          "text": [
            "Train on 25000 samples, validate on 25000 samples\n",
            "Epoch 1/10\n",
            "25000/25000 [==============================] - 85s 3ms/step - loss: 0.4227 - acc: 0.7876 - val_loss: 0.2882 - val_acc: 0.8801\n",
            "Epoch 2/10\n",
            "25000/25000 [==============================] - 80s 3ms/step - loss: 0.2380 - acc: 0.9057 - val_loss: 0.2882 - val_acc: 0.8770\n",
            "Epoch 3/10\n",
            "25000/25000 [==============================] - 80s 3ms/step - loss: 0.2057 - acc: 0.9202 - val_loss: 0.3178 - val_acc: 0.8692\n",
            "Epoch 4/10\n",
            "25000/25000 [==============================] - 80s 3ms/step - loss: 0.1725 - acc: 0.9348 - val_loss: 0.3126 - val_acc: 0.8729\n",
            "Epoch 5/10\n",
            "25000/25000 [==============================] - 80s 3ms/step - loss: 0.1506 - acc: 0.9441 - val_loss: 0.3232 - val_acc: 0.8676\n",
            "Epoch 6/10\n",
            "25000/25000 [==============================] - 80s 3ms/step - loss: 0.1302 - acc: 0.9525 - val_loss: 0.3779 - val_acc: 0.8650\n",
            "Epoch 7/10\n",
            "25000/25000 [==============================] - 80s 3ms/step - loss: 0.1138 - acc: 0.9578 - val_loss: 0.3849 - val_acc: 0.8649\n",
            "Epoch 8/10\n",
            "25000/25000 [==============================] - 80s 3ms/step - loss: 0.0983 - acc: 0.9645 - val_loss: 0.4044 - val_acc: 0.8616\n",
            "Epoch 9/10\n",
            "25000/25000 [==============================] - 80s 3ms/step - loss: 0.0850 - acc: 0.9696 - val_loss: 0.4990 - val_acc: 0.8646\n",
            "Epoch 10/10\n",
            "25000/25000 [==============================] - 80s 3ms/step - loss: 0.0709 - acc: 0.9754 - val_loss: 0.4792 - val_acc: 0.8660\n"
          ],
          "name": "stdout"
        },
        {
          "output_type": "execute_result",
          "data": {
            "text/plain": [
              "<keras.callbacks.History at 0x7ff2ab6a48d0>"
            ]
          },
          "metadata": {
            "tags": []
          },
          "execution_count": 22
        }
      ]
    },
    {
      "metadata": {
        "id": "I9eJhrjGcde5",
        "colab_type": "code",
        "colab": {}
      },
      "cell_type": "code",
      "source": [
        "model.save_weights('cnn_multichannel_glove.h5')"
      ],
      "execution_count": 0,
      "outputs": []
    },
    {
      "metadata": {
        "id": "edsF1-J1w85w",
        "colab_type": "code",
        "outputId": "481f004c-c5e6-4efe-8fc7-c94257ef71df",
        "colab": {
          "base_uri": "https://localhost:8080/",
          "height": 34
        }
      },
      "cell_type": "code",
      "source": [
        "model_yaml = model.to_yaml()\n",
        "with open('cnn_multichannel_glove.yaml','w')as yaml_file:\n",
        "  yaml_file.write(model_yaml)\n",
        "\n",
        "yaml_file.close()\n",
        "if 'cnn_glove_300d.yaml' in os.listdir():\n",
        "  print('Saved model !!')"
      ],
      "execution_count": 0,
      "outputs": [
        {
          "output_type": "stream",
          "text": [
            "Saved model !!\n"
          ],
          "name": "stdout"
        }
      ]
    },
    {
      "metadata": {
        "id": "_1r8p-ToxZLr",
        "colab_type": "code",
        "colab": {}
      },
      "cell_type": "code",
      "source": [
        "import pickle"
      ],
      "execution_count": 0,
      "outputs": []
    },
    {
      "metadata": {
        "id": "2eyMy8JbLMOi",
        "colab_type": "code",
        "outputId": "9d85367e-8ac6-4977-ec77-02854117d480",
        "colab": {
          "base_uri": "https://localhost:8080/",
          "height": 34
        }
      },
      "cell_type": "code",
      "source": [
        "with open('word_index.pkl','wb') as f:\n",
        "  pickle.dump(word2id,f)\n",
        "print('Saved the word to index list !!')"
      ],
      "execution_count": 0,
      "outputs": [
        {
          "output_type": "stream",
          "text": [
            "Saved the word to index list !!\n"
          ],
          "name": "stdout"
        }
      ]
    },
    {
      "metadata": {
        "id": "a9d9Bpr-Nqxm",
        "colab_type": "code",
        "colab": {}
      },
      "cell_type": "code",
      "source": [
        "from google.colab import files"
      ],
      "execution_count": 0,
      "outputs": []
    },
    {
      "metadata": {
        "id": "1_s_yQmHOtZa",
        "colab_type": "code",
        "colab": {}
      },
      "cell_type": "code",
      "source": [
        "files.download('word_index.pkl')"
      ],
      "execution_count": 0,
      "outputs": []
    },
    {
      "metadata": {
        "id": "IBb7yRPKO4hf",
        "colab_type": "code",
        "outputId": "961f3dc4-f987-4c5d-d6d5-9c2a76859345",
        "colab": {
          "base_uri": "https://localhost:8080/",
          "height": 34
        }
      },
      "cell_type": "code",
      "source": [
        "y_train.shape"
      ],
      "execution_count": 0,
      "outputs": [
        {
          "output_type": "execute_result",
          "data": {
            "text/plain": [
              "(25000,)"
            ]
          },
          "metadata": {
            "tags": []
          },
          "execution_count": 19
        }
      ]
    },
    {
      "metadata": {
        "id": "m3UrQ4npV8u4",
        "colab_type": "code",
        "outputId": "16890620-530b-42fe-ff82-a0e2edfcb888",
        "colab": {
          "base_uri": "https://localhost:8080/",
          "height": 68
        }
      },
      "cell_type": "code",
      "source": [
        "y_train[:50]"
      ],
      "execution_count": 0,
      "outputs": [
        {
          "output_type": "execute_result",
          "data": {
            "text/plain": [
              "array([1, 0, 0, 1, 0, 0, 1, 0, 1, 0, 1, 0, 0, 0, 0, 0, 1, 1, 0, 1, 0, 0,\n",
              "       1, 0, 1, 1, 0, 0, 1, 0, 0, 1, 1, 1, 0, 0, 0, 1, 0, 0, 1, 0, 0, 0,\n",
              "       1, 1, 1, 0, 1, 0])"
            ]
          },
          "metadata": {
            "tags": []
          },
          "execution_count": 21
        }
      ]
    },
    {
      "metadata": {
        "id": "2FSsb8_tWAaV",
        "colab_type": "code",
        "colab": {}
      },
      "cell_type": "code",
      "source": [
        ""
      ],
      "execution_count": 0,
      "outputs": []
    }
  ]
}